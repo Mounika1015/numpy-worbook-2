{
 "cells": [
  {
   "cell_type": "markdown",
   "metadata": {},
   "source": [
    "# 1.Create a one-dimensional ndarray object with a length of 10 and all 0s, and then make the fifth element equal to 1"
   ]
  },
  {
   "cell_type": "code",
   "execution_count": 1,
   "metadata": {},
   "outputs": [
    {
     "name": "stdout",
     "output_type": "stream",
     "text": [
      "[0. 0. 0. 0. 1. 0. 0. 0. 0. 0.]\n"
     ]
    }
   ],
   "source": [
    "import numpy as np\n",
    "import pandas as pd\n",
    "from pandas import Series,DataFrame\n",
    "import matplotlib.pyplot as plt\n",
    "\n",
    "%matplotlib inline\n",
    "s1 = np.zeros(shape = 10)\n",
    "s1\n",
    "s1[4] = 1\n",
    "print(s1)"
   ]
  },
  {
   "cell_type": "markdown",
   "metadata": {},
   "source": [
    "# 2.Create an ndarray object elements from 10 to 49"
   ]
  },
  {
   "cell_type": "code",
   "execution_count": 2,
   "metadata": {},
   "outputs": [
    {
     "name": "stdout",
     "output_type": "stream",
     "text": [
      "[10 11 12 13 14 15 16 17 18 19 20 21 22 23 24 25 26 27 28 29 30 31 32 33\n",
      " 34 35 36 37 38 39 40 41 42 43 44 45 46 47 48 49]\n"
     ]
    }
   ],
   "source": [
    "np.random.randint(10,50,size=10)\n",
    "np.linspace(10,49,10)\n",
    "a = np.arange(10,50)\n",
    "print(a)"
   ]
  },
  {
   "cell_type": "markdown",
   "metadata": {},
   "source": [
    "# 3.Reverse the position of all the elements of question 2"
   ]
  },
  {
   "cell_type": "code",
   "execution_count": 3,
   "metadata": {},
   "outputs": [
    {
     "name": "stdout",
     "output_type": "stream",
     "text": [
      "[49 48 47 46 45 44 43 42 41 40 39 38 37 36 35 34 33 32 31 30 29 28 27 26\n",
      " 25 24 23 22 21 20 19 18 17 16 15 14 13 12 11 10]\n"
     ]
    }
   ],
   "source": [
    "print(a[::-1])"
   ]
  },
  {
   "cell_type": "markdown",
   "metadata": {},
   "source": [
    "# 4.Use np.random.random to create a 10*10 ndarray object and print out the largest and smallest elements"
   ]
  },
  {
   "cell_type": "code",
   "execution_count": 4,
   "metadata": {},
   "outputs": [
    {
     "name": "stdout",
     "output_type": "stream",
     "text": [
      "0.004644826584532247 0.9978015436098062\n"
     ]
    }
   ],
   "source": [
    "a4 = np.random.random(size = (10,10))\n",
    "a4\n",
    "zmin,zmax=a4.min(),a4.max()\n",
    "print(zmin,zmax)"
   ]
  },
  {
   "cell_type": "markdown",
   "metadata": {},
   "source": [
    "# 5.Create a 1010 ndarray object, and the matrix boundary is all 1, and the inside is all 0"
   ]
  },
  {
   "cell_type": "code",
   "execution_count": 5,
   "metadata": {},
   "outputs": [
    {
     "name": "stdout",
     "output_type": "stream",
     "text": [
      "[[1 1 1 1 1 1 1 1 1 1]\n",
      " [1 0 0 0 0 0 0 0 0 1]\n",
      " [1 0 0 0 0 0 0 0 0 1]\n",
      " [1 0 0 0 0 0 0 0 0 1]\n",
      " [1 0 0 0 0 0 0 0 0 1]\n",
      " [1 0 0 0 0 0 0 0 0 1]\n",
      " [1 0 0 0 0 0 0 0 0 1]\n",
      " [1 0 0 0 0 0 0 0 0 1]\n",
      " [1 0 0 0 0 0 0 0 0 1]\n",
      " [1 1 1 1 1 1 1 1 1 1]]\n"
     ]
    }
   ],
   "source": [
    "nd = np.zeros(shape = (10, 10),dtype = np. int8)\n",
    "nd[[0,9]] = 1\n",
    "\n",
    "nd[:,[0,9]] = 1\n",
    "print(nd)"
   ]
  },
  {
   "cell_type": "markdown",
   "metadata": {},
   "source": [
    "# 6.Create a 5*5 matrix with each row from 0 to 4"
   ]
  },
  {
   "cell_type": "code",
   "execution_count": 6,
   "metadata": {},
   "outputs": [
    {
     "name": "stdout",
     "output_type": "stream",
     "text": [
      "[[0 1 2 3 4]\n",
      " [0 1 2 3 4]\n",
      " [0 1 2 3 4]\n",
      " [0 1 2 3 4]\n",
      " [0 1 2 3 4]]\n"
     ]
    }
   ],
   "source": [
    "a = [0,1,2,3,4]\n",
    "nd = np.array(a*5)\n",
    "print(nd.reshape(5,5))"
   ]
  },
  {
   "cell_type": "markdown",
   "metadata": {},
   "source": [
    "# 7.Create an arithmetic sequence of length 12 between (0, 1)"
   ]
  },
  {
   "cell_type": "code",
   "execution_count": 7,
   "metadata": {},
   "outputs": [
    {
     "name": "stdout",
     "output_type": "stream",
     "text": [
      "[0.         0.09090909 0.18181818 0.27272727 0.36363636 0.45454545\n",
      " 0.54545455 0.63636364 0.72727273 0.81818182 0.90909091 1.        ]\n"
     ]
    }
   ],
   "source": [
    "print(np.linspace(0,1,12))"
   ]
  },
  {
   "cell_type": "markdown",
   "metadata": {},
   "source": [
    "# 8.Create a random array of length 10 and sort"
   ]
  },
  {
   "cell_type": "code",
   "execution_count": 8,
   "metadata": {},
   "outputs": [
    {
     "name": "stdout",
     "output_type": "stream",
     "text": [
      "[0.08749675 0.19401436 0.21059699 0.37481565 0.38916565 0.63755476\n",
      " 0.67364481 0.8609671  0.86665662 0.93846679]\n"
     ]
    }
   ],
   "source": [
    "a8 = np.random.random(10)\n",
    "a8\n",
    "np.sort(a8)\n",
    "a8.argsort()\n",
    "print(a8[a8.argsort()])"
   ]
  },
  {
   "cell_type": "markdown",
   "metadata": {},
   "source": [
    "# 9.Create a random array of length 10 and replace the maximum value with 0"
   ]
  },
  {
   "cell_type": "code",
   "execution_count": 9,
   "metadata": {},
   "outputs": [
    {
     "data": {
      "text/plain": [
       "array([7, 1, 7, 2, 6, 1, 0, 8, 7, 6])"
      ]
     },
     "metadata": {},
     "output_type": "display_data"
    },
    {
     "name": "stdout",
     "output_type": "stream",
     "text": [
      "[   7    1    7    2    6    1    0 -100    7    6]\n"
     ]
    }
   ],
   "source": [
    "nd = np.random.randint(0,10,size = 10)\n",
    "display(nd)\n",
    "index_max= nd.argmax()\n",
    "nd[index_max]\n",
    "all_index_max = np.argwhere(nd==nd[index_max]).reshape(-1)\n",
    "all_index_max\n",
    "nd[all_index_max]=-100\n",
    "print(nd)"
   ]
  },
  {
   "cell_type": "markdown",
   "metadata": {},
   "source": [
    "# 10.How to sort a 5*5 matrix according to the third column?"
   ]
  },
  {
   "cell_type": "code",
   "execution_count": 10,
   "metadata": {},
   "outputs": [
    {
     "name": "stdout",
     "output_type": "stream",
     "text": [
      "[[37 67 20 65 88]\n",
      " [27 92 35 65 19]\n",
      " [14 92 53 47 23]\n",
      " [57 84 57 78 84]\n",
      " [19 15 92 76  8]]\n"
     ]
    }
   ],
   "source": [
    "n10=np.random.randint(0,100,size=(5,5))\n",
    "n10\n",
    "n10[:,2]\n",
    "np.argsort(n10[:,2])\n",
    "print(n10[np.argsort(n10[:,2])])"
   ]
  },
  {
   "cell_type": "markdown",
   "metadata": {},
   "source": [
    "# 11.Given a 4-dimensional matrix, how to get the sum of the last two dimensions?"
   ]
  },
  {
   "cell_type": "code",
   "execution_count": 11,
   "metadata": {},
   "outputs": [
    {
     "name": "stdout",
     "output_type": "stream",
     "text": [
      "[[399 354 560]\n",
      " [490 324 483]]\n"
     ]
    }
   ],
   "source": [
    "n11=np.random. randint(0, 100, size=(2,3,3,3))\n",
    "n11\n",
    "n11.sum(axis=(2,3))\n",
    "print(n11. sum(axis=(-1,-2)))"
   ]
  },
  {
   "cell_type": "markdown",
   "metadata": {},
   "source": [
    "# 12.Given an array [1, 2, 3, 4, 5], how to get a new array with 3 zeros inserted between each element of this array?"
   ]
  },
  {
   "cell_type": "code",
   "execution_count": 12,
   "metadata": {},
   "outputs": [
    {
     "name": "stdout",
     "output_type": "stream",
     "text": [
      "[1 0 0 0 2 0 0 0 3 0 0 0 4 0 0 0 5]\n"
     ]
    }
   ],
   "source": [
    "nd1 = np.arange(1,6)\n",
    "nd2 = np.zeros(shape=17,dtype=int)\n",
    "nd2[::4] = nd1\n",
    "print(nd2)"
   ]
  },
  {
   "cell_type": "markdown",
   "metadata": {},
   "source": [
    "# 13.Given a two-dimensional matrix, how to exchange the elements of two rows?"
   ]
  },
  {
   "cell_type": "code",
   "execution_count": 13,
   "metadata": {},
   "outputs": [
    {
     "name": "stdout",
     "output_type": "stream",
     "text": [
      "[[51 59 29]\n",
      " [55  2 36]\n",
      " [ 5 30 35]]\n"
     ]
    }
   ],
   "source": [
    "np13=np.random.randint(0,100,size=(3,3))\n",
    "print(np13)"
   ]
  },
  {
   "cell_type": "markdown",
   "metadata": {},
   "source": [
    "# 14.Create a random array with a length of 100,000, use two methods to square it, and compare the time taken"
   ]
  },
  {
   "cell_type": "code",
   "execution_count": 14,
   "metadata": {},
   "outputs": [
    {
     "name": "stdout",
     "output_type": "stream",
     "text": [
      "2.28 µs ± 448 ns per loop (mean ± std. dev. of 7 runs, 1000000 loops each)\n",
      "1.86 µs ± 201 ns per loop (mean ± std. dev. of 7 runs, 100000 loops each)\n",
      "5.65 µs ± 927 ns per loop (mean ± std. dev. of 7 runs, 100000 loops each)\n"
     ]
    }
   ],
   "source": [
    "n14=np.random.random(size=100000)\n",
    "n14\n",
    "n14=np.random.randint(0,100000,(5))\n",
    "n14\n",
    "%timeit np.power(n14,3)\n",
    "%timeit n14**3\n",
    "n14_2=np.dot(n14,n14)\n",
    "%timeit np.dot(n14_2,n14)"
   ]
  },
  {
   "cell_type": "markdown",
   "metadata": {},
   "source": [
    "# 15.Create a 53 random matrices and a 32 Random matrix, find matrix product"
   ]
  },
  {
   "cell_type": "code",
   "execution_count": 15,
   "metadata": {},
   "outputs": [
    {
     "name": "stdout",
     "output_type": "stream",
     "text": [
      "[[10907  8260]\n",
      " [ 6924  5000]\n",
      " [12304 10737]\n",
      " [ 2217  1935]\n",
      " [10633  8797]]\n"
     ]
    }
   ],
   "source": [
    "n15_53=np.random.randint(0,100,size=(5,3))\n",
    "n15_53\n",
    "n15_32 = np.random.randint(0,100,(3,2))\n",
    "n15_32\n",
    "print(np.dot(n15_53,n15_32))"
   ]
  },
  {
   "cell_type": "markdown",
   "metadata": {},
   "source": [
    "# 16.The elements of each row of the matrix are subtracted from the average value of the row"
   ]
  },
  {
   "cell_type": "code",
   "execution_count": 16,
   "metadata": {},
   "outputs": [
    {
     "name": "stdout",
     "output_type": "stream",
     "text": [
      "[[ 5.         -1.         -4.        ]\n",
      " [ 4.          0.         -4.        ]\n",
      " [ 1.33333333 -1.66666667  0.33333333]]\n"
     ]
    }
   ],
   "source": [
    "n16 = np.random.randint(0,10,(3,3))\n",
    "n16\n",
    "n16_1 = n16.mean(axis=1).reshape(3,1)\n",
    "n16_1\n",
    "print(n16-n16_1)"
   ]
  },
  {
   "cell_type": "markdown",
   "metadata": {},
   "source": [
    "# 17.Print out the following function (required to use np.zeros to create an 8*8 matrix):\n",
    "* [[0 1 0 1 0 1 0 1]\n",
    "* [1 0 1 0 1 0 1 0]\n",
    "* [0 1 0 1 0 1 0 1]\n",
    "* [1 0 1 0 1 0 1 0]\n",
    "* [0 1 0 1 0 1 0 1]\n",
    "* [1 0 1 0 1 0 1 0]\n",
    "* [0 1 0 1 0 1 0 1]\n",
    "* [1 0 1 0 1 0 1 0]]"
   ]
  },
  {
   "cell_type": "code",
   "execution_count": 17,
   "metadata": {},
   "outputs": [
    {
     "name": "stdout",
     "output_type": "stream",
     "text": [
      "[[0 1 0 1 0 1 0 1]\n",
      " [1 0 1 0 1 0 1 0]\n",
      " [0 1 0 1 0 1 0 1]\n",
      " [1 0 1 0 1 0 1 0]\n",
      " [0 1 0 1 0 1 0 1]\n",
      " [1 0 1 0 1 0 1 0]\n",
      " [0 1 0 1 0 1 0 1]\n",
      " [1 0 1 0 1 0 1 0]]\n"
     ]
    }
   ],
   "source": [
    "nd=np.ones(shape = (8,8),dtype=int)\n",
    "nd[::2,::2]=0\n",
    "nd[1::2,1::2]=0\n",
    "print(nd)"
   ]
  },
  {
   "cell_type": "markdown",
   "metadata": {},
   "source": [
    "# 18.Regularize a 55 random matrix [Regular concept: Assuming that a is an element in the matrix, max/min are the maximum and minimum values ​​of the matrix elements respectively, then a = (a-min)/(max -min)]"
   ]
  },
  {
   "cell_type": "code",
   "execution_count": 18,
   "metadata": {},
   "outputs": [
    {
     "name": "stdout",
     "output_type": "stream",
     "text": [
      "[[0.07777778 0.91111111 0.48888889 0.58888889 0.7       ]\n",
      " [0.53333333 0.98888889 0.31111111 0.56666667 0.36666667]\n",
      " [1.         0.84444444 0.63333333 0.27777778 0.        ]\n",
      " [0.45555556 0.56666667 0.81111111 0.27777778 1.        ]\n",
      " [0.43333333 0.7        0.33333333 0.53333333 0.51111111]]\n"
     ]
    }
   ],
   "source": [
    "n18 = np.random.randint(0,100,(5,5))\n",
    "n18\n",
    "nmax,nmin=n18.max(),n18.min()\n",
    "nmax,nmin\n",
    "n18=(n18-nmin)/(nmax-nmin)\n",
    "print(n18)"
   ]
  },
  {
   "cell_type": "markdown",
   "metadata": {},
   "source": [
    "# 19.Convert a one-dimensional array into a binary representation matrix. E.g [1,2,3] is converted to\n",
    "\n",
    "* [[0,0,1],\n",
    "* [0,1,0],\n",
    "* [0,1,1]]"
   ]
  },
  {
   "cell_type": "code",
   "execution_count": 19,
   "metadata": {},
   "outputs": [
    {
     "data": {
      "text/plain": [
       "0"
      ]
     },
     "execution_count": 19,
     "metadata": {},
     "output_type": "execute_result"
    }
   ],
   "source": [
    "1 and 0\n",
    "1 or 1\n",
    "1 & 2"
   ]
  },
  {
   "cell_type": "markdown",
   "metadata": {},
   "source": [
    "# 20 realize the bubble sort method\n",
    "* n=[19,60,66,71,54,57,1,24,82,39]"
   ]
  },
  {
   "cell_type": "code",
   "execution_count": 20,
   "metadata": {},
   "outputs": [
    {
     "name": "stdout",
     "output_type": "stream",
     "text": [
      "[1, 19, 24, 39, 57, 60, 66, 82, 7154]\n"
     ]
    }
   ],
   "source": [
    "n20=[19,60,66,7154,57,1,24,82,39]\n",
    "for i in range(len(n20)-1):\n",
    "    for j in range (len(n20)-i-1):\n",
    "        if  n20[j]>n20[j+1]:\n",
    "            n20[j],n20[j+1]=n20[j+1],n20[j]\n",
    "print(n20)"
   ]
  },
  {
   "cell_type": "code",
   "execution_count": null,
   "metadata": {},
   "outputs": [],
   "source": []
  }
 ],
 "metadata": {
  "kernelspec": {
   "display_name": "Python 3",
   "language": "python",
   "name": "python3"
  },
  "language_info": {
   "codemirror_mode": {
    "name": "ipython",
    "version": 3
   },
   "file_extension": ".py",
   "mimetype": "text/x-python",
   "name": "python",
   "nbconvert_exporter": "python",
   "pygments_lexer": "ipython3",
   "version": "3.8.5"
  }
 },
 "nbformat": 4,
 "nbformat_minor": 4
}
